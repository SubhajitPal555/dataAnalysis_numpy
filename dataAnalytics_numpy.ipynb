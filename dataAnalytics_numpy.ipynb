{
 "cells": [
  {
   "cell_type": "code",
   "execution_count": 5,
   "id": "fb504ee6",
   "metadata": {},
   "outputs": [
    {
     "name": "stdout",
     "output_type": "stream",
     "text": [
      "[1 2 3]\n"
     ]
    }
   ],
   "source": [
    "import numpy as np\n",
    "arr1=np.array([1,2,3])\n",
    "print(arr1)"
   ]
  },
  {
   "cell_type": "code",
   "execution_count": 3,
   "id": "89485cdd",
   "metadata": {},
   "outputs": [
    {
     "name": "stdout",
     "output_type": "stream",
     "text": [
      "<class 'numpy.ndarray'>\n"
     ]
    }
   ],
   "source": [
    "print(type(arr1))"
   ]
  },
  {
   "cell_type": "code",
   "execution_count": 4,
   "id": "fc6040aa",
   "metadata": {},
   "outputs": [
    {
     "name": "stdout",
     "output_type": "stream",
     "text": [
      "(3,)\n"
     ]
    }
   ],
   "source": [
    "print(arr1.shape)"
   ]
  },
  {
   "cell_type": "code",
   "execution_count": 6,
   "id": "e20b987d",
   "metadata": {},
   "outputs": [
    {
     "name": "stdout",
     "output_type": "stream",
     "text": [
      "3\n"
     ]
    }
   ],
   "source": [
    "print (arr1[2])"
   ]
  },
  {
   "cell_type": "code",
   "execution_count": 7,
   "id": "91f26af7",
   "metadata": {},
   "outputs": [
    {
     "data": {
      "text/plain": [
       "array([1, 2, 5])"
      ]
     },
     "execution_count": 7,
     "metadata": {},
     "output_type": "execute_result"
    }
   ],
   "source": [
    "arr1[2]=5\n",
    "arr1"
   ]
  },
  {
   "cell_type": "markdown",
   "id": "04d8270e",
   "metadata": {},
   "source": [
    "## "
   ]
  },
  {
   "cell_type": "code",
   "execution_count": 10,
   "id": "14574286",
   "metadata": {},
   "outputs": [
    {
     "data": {
      "text/plain": [
       "array([[1, 2, 3],\n",
       "       [3, 4, 5]])"
      ]
     },
     "execution_count": 10,
     "metadata": {},
     "output_type": "execute_result"
    }
   ],
   "source": [
    "arr2=np.array([[1,2,3],[3,4,5]])\n",
    "arr2\n"
   ]
  },
  {
   "cell_type": "markdown",
   "id": "0ebeb62e",
   "metadata": {},
   "source": []
  },
  {
   "cell_type": "code",
   "execution_count": 11,
   "id": "57038c1a",
   "metadata": {},
   "outputs": [
    {
     "data": {
      "text/plain": [
       "5"
      ]
     },
     "execution_count": 11,
     "metadata": {},
     "output_type": "execute_result"
    }
   ],
   "source": [
    "arr2[1][2]"
   ]
  },
  {
   "cell_type": "code",
   "execution_count": 12,
   "id": "20d603c8",
   "metadata": {},
   "outputs": [
    {
     "name": "stdout",
     "output_type": "stream",
     "text": [
      "(2, 3)\n"
     ]
    }
   ],
   "source": [
    "print(arr2.shape)"
   ]
  },
  {
   "cell_type": "code",
   "execution_count": 13,
   "id": "648be640",
   "metadata": {},
   "outputs": [
    {
     "data": {
      "text/plain": [
       "5"
      ]
     },
     "execution_count": 13,
     "metadata": {},
     "output_type": "execute_result"
    }
   ],
   "source": [
    "arr2[1][-1]"
   ]
  },
  {
   "cell_type": "code",
   "execution_count": 14,
   "id": "0e56a8ba",
   "metadata": {},
   "outputs": [
    {
     "data": {
      "text/plain": [
       "array(['India', 'USA', 'France', 'Israel'], dtype='<U6')"
      ]
     },
     "execution_count": 14,
     "metadata": {},
     "output_type": "execute_result"
    }
   ],
   "source": [
    "arrS=np.array(['India','USA', 'France', 'Israel'])\n",
    "arrS"
   ]
  },
  {
   "cell_type": "code",
   "execution_count": 15,
   "id": "f5d4f7c8",
   "metadata": {},
   "outputs": [
    {
     "data": {
      "text/plain": [
       "array([ 0,  2,  4,  6,  8, 10, 12, 14, 16, 18])"
      ]
     },
     "execution_count": 15,
     "metadata": {},
     "output_type": "execute_result"
    }
   ],
   "source": [
    "arrR=np.arange(0,20,2)\n",
    "arrR"
   ]
  },
  {
   "cell_type": "code",
   "execution_count": 16,
   "id": "fedbd612",
   "metadata": {},
   "outputs": [
    {
     "data": {
      "text/plain": [
       "array([ 0.        ,  0.52631579,  1.05263158,  1.57894737,  2.10526316,\n",
       "        2.63157895,  3.15789474,  3.68421053,  4.21052632,  4.73684211,\n",
       "        5.26315789,  5.78947368,  6.31578947,  6.84210526,  7.36842105,\n",
       "        7.89473684,  8.42105263,  8.94736842,  9.47368421, 10.        ])"
      ]
     },
     "execution_count": 16,
     "metadata": {},
     "output_type": "execute_result"
    }
   ],
   "source": [
    "arrL= np.linspace(0,10,20)\n",
    "arrL"
   ]
  },
  {
   "cell_type": "code",
   "execution_count": 17,
   "id": "77926e07",
   "metadata": {},
   "outputs": [
    {
     "data": {
      "text/plain": [
       "array([0.88287887, 0.15394819, 0.07388033, 0.0025407 , 0.38752847,\n",
       "       0.21900417, 0.63175433, 0.72769949, 0.923725  , 0.44630271])"
      ]
     },
     "execution_count": 17,
     "metadata": {},
     "output_type": "execute_result"
    }
   ],
   "source": [
    "arr=np.random.rand(10)\n",
    "arr"
   ]
  },
  {
   "cell_type": "code",
   "execution_count": 18,
   "id": "8d547003",
   "metadata": {},
   "outputs": [
    {
     "data": {
      "text/plain": [
       "array([[0.55207977, 0.4945362 , 0.73716154, 0.3638149 ],\n",
       "       [0.81805186, 0.78059158, 0.29150007, 0.56941112],\n",
       "       [0.95948674, 0.49496413, 0.50166422, 0.12282925]])"
      ]
     },
     "execution_count": 18,
     "metadata": {},
     "output_type": "execute_result"
    }
   ],
   "source": [
    "arr=np.random.rand(3,4)\n",
    "arr"
   ]
  },
  {
   "cell_type": "code",
   "execution_count": 20,
   "id": "14d298fd",
   "metadata": {},
   "outputs": [
    {
     "name": "stdout",
     "output_type": "stream",
     "text": [
      "[0. 0. 0. 0. 0. 0. 0. 0. 0. 0.]\n",
      "/n\n",
      "[[0. 0. 0.]\n",
      " [0. 0. 0.]]\n"
     ]
    }
   ],
   "source": [
    "print(np.zeros(10))\n",
    "print('/n')\n",
    "print(np.zeros((2,3)))"
   ]
  },
  {
   "cell_type": "code",
   "execution_count": 22,
   "id": "8093cfe4",
   "metadata": {},
   "outputs": [
    {
     "name": "stdout",
     "output_type": "stream",
     "text": [
      "[[1. 1. 1. 1. 1. 1. 1. 1. 1. 1.]\n",
      " [1. 1. 1. 1. 1. 1. 1. 1. 1. 1.]\n",
      " [1. 1. 1. 1. 1. 1. 1. 1. 1. 1.]\n",
      " [1. 1. 1. 1. 1. 1. 1. 1. 1. 1.]\n",
      " [1. 1. 1. 1. 1. 1. 1. 1. 1. 1.]\n",
      " [1. 1. 1. 1. 1. 1. 1. 1. 1. 1.]\n",
      " [1. 1. 1. 1. 1. 1. 1. 1. 1. 1.]\n",
      " [1. 1. 1. 1. 1. 1. 1. 1. 1. 1.]\n",
      " [1. 1. 1. 1. 1. 1. 1. 1. 1. 1.]\n",
      " [1. 1. 1. 1. 1. 1. 1. 1. 1. 1.]]\n"
     ]
    }
   ],
   "source": [
    "print(np.ones((10,10)))\n",
    "      "
   ]
  },
  {
   "cell_type": "code",
   "execution_count": 23,
   "id": "2dd06a17",
   "metadata": {},
   "outputs": [
    {
     "name": "stdout",
     "output_type": "stream",
     "text": [
      "[0 0 0 1 1 1 2 2 2]\n"
     ]
    }
   ],
   "source": [
    "arr=[0,1,2]\n",
    "print(np.repeat(arr,3))"
   ]
  },
  {
   "cell_type": "code",
   "execution_count": 24,
   "id": "221f272f",
   "metadata": {},
   "outputs": [
    {
     "name": "stdout",
     "output_type": "stream",
     "text": [
      "[0 1 2 0 1 2 0 1 2]\n"
     ]
    }
   ],
   "source": [
    "print(np.tile(arr,3))"
   ]
  },
  {
   "cell_type": "code",
   "execution_count": 25,
   "id": "038979e3",
   "metadata": {},
   "outputs": [
    {
     "data": {
      "text/plain": [
       "array([[1., 0., 0.],\n",
       "       [0., 1., 0.],\n",
       "       [0., 0., 1.]])"
      ]
     },
     "execution_count": 25,
     "metadata": {},
     "output_type": "execute_result"
    }
   ],
   "source": [
    "identity_matrix=np.eye(3)\n",
    "identity_matrix"
   ]
  },
  {
   "cell_type": "code",
   "execution_count": 27,
   "id": "5193b53e",
   "metadata": {},
   "outputs": [
    {
     "data": {
      "text/plain": [
       "array([[1, 0, 0, 0, 0],\n",
       "       [0, 2, 0, 0, 0],\n",
       "       [0, 0, 3, 0, 0],\n",
       "       [0, 0, 0, 4, 0],\n",
       "       [0, 0, 0, 0, 5]])"
      ]
     },
     "execution_count": 27,
     "metadata": {},
     "output_type": "execute_result"
    }
   ],
   "source": [
    "np.diag([1,2,3,4,5])"
   ]
  },
  {
   "cell_type": "code",
   "execution_count": 28,
   "id": "c8bb5ade",
   "metadata": {},
   "outputs": [],
   "source": [
    "arr=np.random.rand(5,5)"
   ]
  },
  {
   "cell_type": "code",
   "execution_count": 29,
   "id": "5d9665e2",
   "metadata": {},
   "outputs": [
    {
     "data": {
      "text/plain": [
       "array([[0.98517279, 0.07152654, 0.07245944, 0.30315788, 0.04549581],\n",
       "       [0.87267474, 0.14514077, 0.28067291, 0.72791461, 0.08512718],\n",
       "       [0.68521674, 0.39278106, 0.63246371, 0.3337567 , 0.2630348 ],\n",
       "       [0.62650312, 0.83928136, 0.8866688 , 0.55931414, 0.1635691 ],\n",
       "       [0.54444884, 0.18533192, 0.6934353 , 0.56445837, 0.50281011]])"
      ]
     },
     "execution_count": 29,
     "metadata": {},
     "output_type": "execute_result"
    }
   ],
   "source": [
    "arr"
   ]
  },
  {
   "cell_type": "code",
   "execution_count": 30,
   "id": "412852bf",
   "metadata": {},
   "outputs": [
    {
     "data": {
      "text/plain": [
       "array([0.98517279, 0.14514077, 0.63246371, 0.55931414, 0.50281011])"
      ]
     },
     "execution_count": 30,
     "metadata": {},
     "output_type": "execute_result"
    }
   ],
   "source": [
    "np.diag(arr)"
   ]
  },
  {
   "cell_type": "code",
   "execution_count": 31,
   "id": "cddb9486",
   "metadata": {},
   "outputs": [
    {
     "data": {
      "text/plain": [
       "25"
      ]
     },
     "execution_count": 31,
     "metadata": {},
     "output_type": "execute_result"
    }
   ],
   "source": [
    "arr.size"
   ]
  },
  {
   "cell_type": "code",
   "execution_count": 32,
   "id": "d75f357a",
   "metadata": {},
   "outputs": [
    {
     "data": {
      "text/plain": [
       "(5, 5)"
      ]
     },
     "execution_count": 32,
     "metadata": {},
     "output_type": "execute_result"
    }
   ],
   "source": [
    "arr.shape"
   ]
  },
  {
   "cell_type": "code",
   "execution_count": 33,
   "id": "d81cacb9",
   "metadata": {},
   "outputs": [
    {
     "data": {
      "text/plain": [
       "array([-7, -6,  6, -4])"
      ]
     },
     "execution_count": 33,
     "metadata": {},
     "output_type": "execute_result"
    }
   ],
   "source": [
    "np.random.randint(-10,10,4)"
   ]
  },
  {
   "cell_type": "code",
   "execution_count": 34,
   "id": "c3a37beb",
   "metadata": {
    "scrolled": true
   },
   "outputs": [
    {
     "data": {
      "text/plain": [
       "array([[10.98517279, 10.07152654, 10.07245944, 10.30315788, 10.04549581],\n",
       "       [10.87267474, 10.14514077, 10.28067291, 10.72791461, 10.08512718],\n",
       "       [10.68521674, 10.39278106, 10.63246371, 10.3337567 , 10.2630348 ],\n",
       "       [10.62650312, 10.83928136, 10.8866688 , 10.55931414, 10.1635691 ],\n",
       "       [10.54444884, 10.18533192, 10.6934353 , 10.56445837, 10.50281011]])"
      ]
     },
     "execution_count": 34,
     "metadata": {},
     "output_type": "execute_result"
    }
   ],
   "source": [
    "arr+10"
   ]
  },
  {
   "cell_type": "code",
   "execution_count": 35,
   "id": "8429c735",
   "metadata": {
    "scrolled": true
   },
   "outputs": [
    {
     "data": {
      "text/plain": [
       "array([[0.4925864 , 0.03576327, 0.03622972, 0.15157894, 0.0227479 ],\n",
       "       [0.43633737, 0.07257038, 0.14033645, 0.3639573 , 0.04256359],\n",
       "       [0.34260837, 0.19639053, 0.31623186, 0.16687835, 0.1315174 ],\n",
       "       [0.31325156, 0.41964068, 0.4433344 , 0.27965707, 0.08178455],\n",
       "       [0.27222442, 0.09266596, 0.34671765, 0.28222919, 0.25140506]])"
      ]
     },
     "execution_count": 35,
     "metadata": {},
     "output_type": "execute_result"
    }
   ],
   "source": [
    "arr/2"
   ]
  },
  {
   "cell_type": "code",
   "execution_count": 36,
   "id": "c8c1149c",
   "metadata": {},
   "outputs": [
    {
     "data": {
      "text/plain": [
       "array([[2.67827463, 1.07414666, 1.07514919, 1.35412824, 1.04654662],\n",
       "       [2.39330377, 1.15620231, 1.32402045, 2.07075776, 1.08885554],\n",
       "       [1.98420185, 1.48109408, 1.88224218, 1.39620341, 1.30087198],\n",
       "       [1.87105626, 2.31470294, 2.42703125, 1.74947219, 1.17770673],\n",
       "       [1.7236581 , 1.20361787, 2.00057632, 1.75849508, 1.65336088]])"
      ]
     },
     "execution_count": 36,
     "metadata": {},
     "output_type": "execute_result"
    }
   ],
   "source": [
    "np.exp(arr)"
   ]
  },
  {
   "cell_type": "code",
   "execution_count": 37,
   "id": "60e2028e",
   "metadata": {},
   "outputs": [
    {
     "data": {
      "text/plain": [
       "array([[0.98517279, 0.07152654, 0.07245944, 0.30315788, 0.04549581],\n",
       "       [0.87267474, 0.14514077, 0.28067291, 0.72791461, 0.08512718],\n",
       "       [0.68521674, 0.39278106, 0.63246371, 0.3337567 , 0.2630348 ],\n",
       "       [0.62650312, 0.83928136, 0.8866688 , 0.55931414, 0.1635691 ],\n",
       "       [0.54444884, 0.18533192, 0.6934353 , 0.56445837, 0.50281011]])"
      ]
     },
     "execution_count": 37,
     "metadata": {},
     "output_type": "execute_result"
    }
   ],
   "source": [
    "arr"
   ]
  },
  {
   "cell_type": "code",
   "execution_count": 39,
   "id": "21ab0aa1",
   "metadata": {},
   "outputs": [
    {
     "data": {
      "text/plain": [
       "array([[-0.00648759, -1.14553275, -1.13990505, -0.51833114, -1.34202862],\n",
       "       [-0.05914759, -0.83821059, -0.55179951, -0.13791956, -1.06993173],\n",
       "       [-0.16417203, -0.40584947, -0.19896439, -0.47657001, -0.5799868 ],\n",
       "       [-0.20307676, -0.07609242, -0.05223857, -0.2523442 , -0.78629873],\n",
       "       [-0.26404293, -0.73204978, -0.15899405, -0.24836808, -0.298596  ]])"
      ]
     },
     "execution_count": 39,
     "metadata": {},
     "output_type": "execute_result"
    }
   ],
   "source": [
    "np.log10(arr)"
   ]
  },
  {
   "cell_type": "code",
   "execution_count": 40,
   "id": "79688376",
   "metadata": {},
   "outputs": [
    {
     "data": {
      "text/plain": [
       "array([[0.83336761, 0.07146557, 0.07239605, 0.29853556, 0.04548011],\n",
       "       [0.76605095, 0.14463172, 0.27700229, 0.66531421, 0.08502441],\n",
       "       [0.63284085, 0.38275917, 0.59113372, 0.32759473, 0.26001216],\n",
       "       [0.58631558, 0.74416326, 0.77497074, 0.53060497, 0.1628407 ],\n",
       "       [0.5179467 , 0.18427278, 0.63918288, 0.53495829, 0.48188975]])"
      ]
     },
     "execution_count": 40,
     "metadata": {},
     "output_type": "execute_result"
    }
   ],
   "source": [
    "np.sin(arr)"
   ]
  },
  {
   "cell_type": "code",
   "execution_count": 42,
   "id": "b070e8fc",
   "metadata": {},
   "outputs": [
    {
     "data": {
      "text/plain": [
       "array([[1.50775968, 0.07164877, 0.07258652, 0.3127997 , 0.04552722],\n",
       "       [1.19177808, 0.1461686 , 0.28828301, 0.89116898, 0.08533341],\n",
       "       [0.81732615, 0.4143096 , 0.73289497, 0.34672774, 0.26927374],\n",
       "       [0.72377247, 1.11402056, 1.22622514, 0.62599449, 0.16504364],\n",
       "       [0.60549321, 0.1874834 , 0.83112791, 0.63317779, 0.54995689]])"
      ]
     },
     "execution_count": 42,
     "metadata": {},
     "output_type": "execute_result"
    }
   ],
   "source": [
    "np.tan(arr)"
   ]
  },
  {
   "cell_type": "code",
   "execution_count": 43,
   "id": "aa9c4a12",
   "metadata": {},
   "outputs": [
    {
     "data": {
      "text/plain": [
       "array([[0.98517279, 0.07152654, 0.07245944, 0.30315788, 0.04549581],\n",
       "       [0.87267474, 0.14514077, 0.28067291, 0.72791461, 0.08512718],\n",
       "       [0.68521674, 0.39278106, 0.63246371, 0.3337567 , 0.2630348 ],\n",
       "       [0.62650312, 0.83928136, 0.8866688 , 0.55931414, 0.1635691 ],\n",
       "       [0.54444884, 0.18533192, 0.6934353 , 0.56445837, 0.50281011]])"
      ]
     },
     "execution_count": 43,
     "metadata": {},
     "output_type": "execute_result"
    }
   ],
   "source": [
    "arr"
   ]
  },
  {
   "cell_type": "code",
   "execution_count": 44,
   "id": "10fcbfd5",
   "metadata": {},
   "outputs": [
    {
     "data": {
      "text/plain": [
       "11.46241673098673"
      ]
     },
     "execution_count": 44,
     "metadata": {},
     "output_type": "execute_result"
    }
   ],
   "source": [
    "np.sum(arr)"
   ]
  },
  {
   "cell_type": "code",
   "execution_count": 45,
   "id": "8c9251f3",
   "metadata": {},
   "outputs": [
    {
     "data": {
      "text/plain": [
       "array([3.71401623, 1.63406164, 2.56570016, 2.4886017 , 1.060037  ])"
      ]
     },
     "execution_count": 45,
     "metadata": {},
     "output_type": "execute_result"
    }
   ],
   "source": [
    "np.sum(arr ,axis=0)"
   ]
  },
  {
   "cell_type": "code",
   "execution_count": 46,
   "id": "6c05a2ff",
   "metadata": {},
   "outputs": [
    {
     "data": {
      "text/plain": [
       "array([1.47781246, 2.11153021, 2.30725301, 3.07533652, 2.49048454])"
      ]
     },
     "execution_count": 46,
     "metadata": {},
     "output_type": "execute_result"
    }
   ],
   "source": [
    "np.sum(arr,axis=1)"
   ]
  },
  {
   "cell_type": "code",
   "execution_count": 47,
   "id": "e24c240f",
   "metadata": {},
   "outputs": [
    {
     "data": {
      "text/plain": [
       "0.04549580816096077"
      ]
     },
     "execution_count": 47,
     "metadata": {},
     "output_type": "execute_result"
    }
   ],
   "source": [
    "np.min(arr)"
   ]
  },
  {
   "cell_type": "code",
   "execution_count": 48,
   "id": "a369a24e",
   "metadata": {},
   "outputs": [
    {
     "data": {
      "text/plain": [
       "array([0.98517279, 0.87267474, 0.68521674, 0.8866688 , 0.6934353 ])"
      ]
     },
     "execution_count": 48,
     "metadata": {},
     "output_type": "execute_result"
    }
   ],
   "source": [
    "np.max(arr, axis=1)"
   ]
  },
  {
   "cell_type": "code",
   "execution_count": 49,
   "id": "cfd4bfcf",
   "metadata": {},
   "outputs": [
    {
     "data": {
      "text/plain": [
       "0.4584966692394692"
      ]
     },
     "execution_count": 49,
     "metadata": {},
     "output_type": "execute_result"
    }
   ],
   "source": [
    "np.mean(arr)"
   ]
  },
  {
   "cell_type": "code",
   "execution_count": 50,
   "id": "b2d48736",
   "metadata": {},
   "outputs": [
    {
     "data": {
      "text/plain": [
       "array([0.74280325, 0.32681233, 0.51314003, 0.49772034, 0.2120074 ])"
      ]
     },
     "execution_count": 50,
     "metadata": {},
     "output_type": "execute_result"
    }
   ],
   "source": [
    "np.mean(arr,axis=0)"
   ]
  },
  {
   "cell_type": "code",
   "execution_count": 51,
   "id": "64493ca4",
   "metadata": {},
   "outputs": [
    {
     "data": {
      "text/plain": [
       "array([0.68521674, 0.18533192, 0.63246371, 0.55931414, 0.1635691 ])"
      ]
     },
     "execution_count": 51,
     "metadata": {},
     "output_type": "execute_result"
    }
   ],
   "source": [
    "np.median(arr,axis=0)"
   ]
  },
  {
   "cell_type": "code",
   "execution_count": 52,
   "id": "9a706d0d",
   "metadata": {},
   "outputs": [
    {
     "data": {
      "text/plain": [
       "array([0.16235517, 0.27754945, 0.29479098, 0.15872983, 0.163304  ])"
      ]
     },
     "execution_count": 52,
     "metadata": {},
     "output_type": "execute_result"
    }
   ],
   "source": [
    "np.std(arr,axis=0)"
   ]
  },
  {
   "cell_type": "code",
   "execution_count": 53,
   "id": "c62c4dfe",
   "metadata": {},
   "outputs": [
    {
     "data": {
      "text/plain": [
       "0.08112206426272174"
      ]
     },
     "execution_count": 53,
     "metadata": {},
     "output_type": "execute_result"
    }
   ],
   "source": [
    "np.var(arr)"
   ]
  },
  {
   "cell_type": "code",
   "execution_count": 54,
   "id": "9859b508",
   "metadata": {},
   "outputs": [
    {
     "data": {
      "text/plain": [
       "array([[0.28067291],\n",
       "       [0.63246371],\n",
       "       [0.8866688 ],\n",
       "       [0.6934353 ]])"
      ]
     },
     "execution_count": 54,
     "metadata": {},
     "output_type": "execute_result"
    }
   ],
   "source": [
    "arr[1:,2:3]"
   ]
  },
  {
   "cell_type": "code",
   "execution_count": 55,
   "id": "83c46b57",
   "metadata": {},
   "outputs": [
    {
     "data": {
      "text/plain": [
       "array([[0.04549581, 0.07152654, 0.07245944, 0.30315788, 0.98517279],\n",
       "       [0.08512718, 0.14514077, 0.28067291, 0.72791461, 0.87267474],\n",
       "       [0.2630348 , 0.3337567 , 0.39278106, 0.63246371, 0.68521674],\n",
       "       [0.1635691 , 0.55931414, 0.62650312, 0.83928136, 0.8866688 ],\n",
       "       [0.18533192, 0.50281011, 0.54444884, 0.56445837, 0.6934353 ]])"
      ]
     },
     "execution_count": 55,
     "metadata": {},
     "output_type": "execute_result"
    }
   ],
   "source": [
    "np.sort(arr,axis=1)"
   ]
  },
  {
   "cell_type": "code",
   "execution_count": 56,
   "id": "b06c12fb",
   "metadata": {},
   "outputs": [
    {
     "data": {
      "text/plain": [
       "array([[0.04549581, 0.07152654, 0.07245944, 0.30315788, 0.98517279],\n",
       "       [0.08512718, 0.14514077, 0.28067291, 0.72791461, 0.87267474],\n",
       "       [0.2630348 , 0.3337567 , 0.39278106, 0.63246371, 0.68521674],\n",
       "       [0.1635691 , 0.55931414, 0.62650312, 0.83928136, 0.8866688 ],\n",
       "       [0.18533192, 0.50281011, 0.54444884, 0.56445837, 0.6934353 ]])"
      ]
     },
     "execution_count": 56,
     "metadata": {},
     "output_type": "execute_result"
    }
   ],
   "source": [
    "np.sort(arr)"
   ]
  },
  {
   "cell_type": "code",
   "execution_count": 57,
   "id": "db1c5701",
   "metadata": {},
   "outputs": [
    {
     "data": {
      "text/plain": [
       "array([[0.98517279, 0.87267474, 0.68521674, 0.62650312, 0.54444884],\n",
       "       [0.07152654, 0.14514077, 0.39278106, 0.83928136, 0.18533192],\n",
       "       [0.07245944, 0.28067291, 0.63246371, 0.8866688 , 0.6934353 ],\n",
       "       [0.30315788, 0.72791461, 0.3337567 , 0.55931414, 0.56445837],\n",
       "       [0.04549581, 0.08512718, 0.2630348 , 0.1635691 , 0.50281011]])"
      ]
     },
     "execution_count": 57,
     "metadata": {},
     "output_type": "execute_result"
    }
   ],
   "source": [
    "arr.T"
   ]
  },
  {
   "cell_type": "code",
   "execution_count": 58,
   "id": "75efc7bf",
   "metadata": {},
   "outputs": [
    {
     "data": {
      "text/plain": [
       "array([[0.98517279, 0.87267474, 0.68521674],\n",
       "       [0.07152654, 0.14514077, 0.39278106],\n",
       "       [0.07245944, 0.28067291, 0.63246371],\n",
       "       [0.30315788, 0.72791461, 0.3337567 ],\n",
       "       [0.04549581, 0.08512718, 0.2630348 ]])"
      ]
     },
     "execution_count": 58,
     "metadata": {},
     "output_type": "execute_result"
    }
   ],
   "source": [
    "arr[:3,:].T"
   ]
  },
  {
   "cell_type": "code",
   "execution_count": 62,
   "id": "593e3cd2",
   "metadata": {},
   "outputs": [
    {
     "data": {
      "text/plain": [
       "array([4, 5, 6, 7, 8])"
      ]
     },
     "execution_count": 62,
     "metadata": {},
     "output_type": "execute_result"
    }
   ],
   "source": [
    "arr=np.array([4,5,6,7,8])\n",
    "arr"
   ]
  },
  {
   "cell_type": "code",
   "execution_count": 63,
   "id": "5e9f3599",
   "metadata": {},
   "outputs": [
    {
     "data": {
      "text/plain": [
       "array([4, 5, 6, 7, 8, 8])"
      ]
     },
     "execution_count": 63,
     "metadata": {},
     "output_type": "execute_result"
    }
   ],
   "source": [
    "arr1=np.append(arr,8)\n",
    "arr1"
   ]
  },
  {
   "cell_type": "code",
   "execution_count": 64,
   "id": "65958bac",
   "metadata": {},
   "outputs": [
    {
     "name": "stdout",
     "output_type": "stream",
     "text": [
      "[4 5 6 7 8 8]\n"
     ]
    }
   ],
   "source": [
    "print(arr1)"
   ]
  },
  {
   "cell_type": "code",
   "execution_count": 66,
   "id": "cbf7c82a",
   "metadata": {},
   "outputs": [
    {
     "data": {
      "text/plain": [
       "array([1, 2, 3, 4, 5, 6, 7, 8])"
      ]
     },
     "execution_count": 66,
     "metadata": {},
     "output_type": "execute_result"
    }
   ],
   "source": [
    "arr2=np.insert(arr,-0,[1,2,3])\n",
    "arr2"
   ]
  },
  {
   "cell_type": "code",
   "execution_count": 69,
   "id": "ad3dc9e9",
   "metadata": {},
   "outputs": [],
   "source": [
    "arr3=np.delete(arr2,0)"
   ]
  },
  {
   "cell_type": "code",
   "execution_count": 70,
   "id": "f0f2cd8c",
   "metadata": {},
   "outputs": [
    {
     "data": {
      "text/plain": [
       "array([2, 3, 4, 5, 6, 7, 8])"
      ]
     },
     "execution_count": 70,
     "metadata": {},
     "output_type": "execute_result"
    }
   ],
   "source": [
    "arr3"
   ]
  },
  {
   "cell_type": "code",
   "execution_count": 7,
   "id": "4231ed13",
   "metadata": {},
   "outputs": [
    {
     "data": {
      "text/plain": [
       "array([5, 7, 5, 6, 7, 8])"
      ]
     },
     "execution_count": 7,
     "metadata": {},
     "output_type": "execute_result"
    }
   ],
   "source": [
    "arr3=np.delete(arr2,[1,3])\n",
    "arr3"
   ]
  },
  {
   "cell_type": "code",
   "execution_count": 72,
   "id": "60260846",
   "metadata": {},
   "outputs": [
    {
     "name": "stdout",
     "output_type": "stream",
     "text": [
      "[1 3 5 6 7 8]\n"
     ]
    }
   ],
   "source": [
    "print(arr3)"
   ]
  },
  {
   "cell_type": "code",
   "execution_count": 73,
   "id": "49278fa3",
   "metadata": {},
   "outputs": [
    {
     "data": {
      "text/plain": [
       "array([1, 3, 5, 6, 7, 8])"
      ]
     },
     "execution_count": 73,
     "metadata": {},
     "output_type": "execute_result"
    }
   ],
   "source": [
    "arrC = arr3.copy()\n",
    "arrC"
   ]
  },
  {
   "cell_type": "code",
   "execution_count": 6,
   "id": "e6c81fbc",
   "metadata": {
    "scrolled": true
   },
   "outputs": [
    {
     "name": "stdout",
     "output_type": "stream",
     "text": [
      "[[1 2 3 4]\n",
      " [1 2 3 4]\n",
      " [5 6 7 8]\n",
      " [5 6 7 8]]\n"
     ]
    }
   ],
   "source": [
    "arr1= np.array([[1,2,3,4],[1,2,3,4]])\n",
    "arr2= np.array([[5,6,7,8],[5,6,7,8]])\n",
    "cat = np.concatenate((arr1,arr2),axis=0)\n",
    "print(cat)"
   ]
  },
  {
   "cell_type": "code",
   "execution_count": 77,
   "id": "fdcb27bf",
   "metadata": {},
   "outputs": [
    {
     "data": {
      "text/plain": [
       "(2, 4)"
      ]
     },
     "execution_count": 77,
     "metadata": {},
     "output_type": "execute_result"
    }
   ],
   "source": [
    "arr2.shape"
   ]
  }
 ],
 "metadata": {
  "kernelspec": {
   "display_name": "Python 3 (ipykernel)",
   "language": "python",
   "name": "python3"
  },
  "language_info": {
   "codemirror_mode": {
    "name": "ipython",
    "version": 3
   },
   "file_extension": ".py",
   "mimetype": "text/x-python",
   "name": "python",
   "nbconvert_exporter": "python",
   "pygments_lexer": "ipython3",
   "version": "3.9.6"
  }
 },
 "nbformat": 4,
 "nbformat_minor": 5
}
